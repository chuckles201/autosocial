{
 "cells": [
  {
   "cell_type": "markdown",
   "metadata": {},
   "source": [
    "# Posting\n",
    "\n",
    "Hopefully we'll be able just to use the API, and do something like:"
   ]
  },
  {
   "cell_type": "markdown",
   "metadata": {},
   "source": [
    "```python\n",
    "def post_X(date,file_json):\n",
    "    try:\n",
    "        X_API.post(date,file_json)\n",
    "        return \"done\"\n",
    "    except:\n",
    "        return \"error\"\n",
    "```"
   ]
  },
  {
   "cell_type": "markdown",
   "metadata": {},
   "source": [
    "However, X's API cost a lot of money, so we're going to have to automatically post in some other way, and likely the same for all other platforms.\n",
    "\n",
    "## Posting on Web (X)\n",
    "First, let's write a program to post on X, let's start off with just a simple post of only text. This will serve as the 'intro platform' to learn how to automatically post to any other place.\n",
    "\n"
   ]
  },
  {
   "cell_type": "markdown",
   "metadata": {},
   "source": [
    "## Browser Simulation/Automation\n",
    "\n",
    "Basically what we're aiming to do, is simulate the interactions a normal user would have with their browser in order to preform a task, in this case, posting something to twitter/x.\n",
    "\n",
    "> We're using browser automation instead of just pure HTTP requests, because seemingly X has a complex authentication method and we cannot simply send a request to make a post.\n",
    "\n",
    "I've decided to use *Playwright*, since it seems like a relatively good option, and has overall good reviews."
   ]
  },
  {
   "cell_type": "code",
   "execution_count": null,
   "metadata": {},
   "outputs": [],
   "source": [
    "# importing library\n",
    "from playwright.sync_api import sync_playwright\n",
    "\n",
    "# closes browser when done\n",
    "with sync_playwright() as p:\n",
    "    # open our browser\n",
    "    browser = p.chromium.launch(headless=False,slow_mo=50)\n",
    "    \n",
    "    # getting on page\n",
    "    page = browser.new_page()\n",
    "    page.goto(\"https://practicetestautomation.com/practice-test-login/\")\n",
    "    \n",
    "    # name = password\n",
    "    # input = type of element\n",
    "    page.fill('input[name=\"username\"]',\"Student\")\n",
    "    page.fill('input[name=\"password\"]',\"Password123\")\n",
    "    \n",
    "    # take screenshot\n",
    "    page.screenshot(path=\"screenshot_example.png\")\n",
    "    \n",
    "    # id = #\n",
    "    page.click('button#submit')"
   ]
  },
  {
   "cell_type": "markdown",
   "metadata": {},
   "source": [
    "That was pretty simple! We simply had to select the element, fill it in, and click submit! (This doesn't work in jupyter because it is \n",
    "'asynchronous').\n",
    "\n",
    "Now, to avoid logging in, and to save the cookies, I copied my google user data and ran chrome with this:"
   ]
  },
  {
   "cell_type": "code",
   "execution_count": null,
   "metadata": {},
   "outputs": [],
   "source": [
    "# importing library\n",
    "from playwright.sync_api import sync_playwright\n",
    "\n",
    "# data-directory\n",
    "data_dir_chrome = r\"C:\\Users\\charl\\AppData\\Local\\Google\\Chrome\\User Data Copy\"\n",
    "# creating chrome path\n",
    "chrome_path = r\"C:\\Program Files\\Google\\Chrome\\Application\\chrome.exe\"\n",
    "\n",
    "# closes browser when done\n",
    "with sync_playwright() as p:\n",
    "    # open our browser\n",
    "    browser = p.chromium.launch_persistent_context(user_data_dir=data_dir_chrome,\n",
    "                                                   executable_path=chrome_path,\n",
    "                                                   headless=False)\n",
    "    \n",
    "    # getting on page\n",
    "    page = browser.new_page()\n",
    "    page.goto(\"https://x.com/\")\n",
    "    page.screenshot(path=\"Xscreenshot.png\")"
   ]
  },
  {
   "cell_type": "markdown",
   "metadata": {},
   "source": [
    "![pic](images/Xscreenshot.png)\n",
    "(it worked, we're logged in)"
   ]
  },
  {
   "cell_type": "markdown",
   "metadata": {},
   "source": [
    "Now, we'll need to:\n",
    "- create a post  (click, write, submit)\n",
    "- verify that everything worked\n",
    "- add into pipeline\n",
    "\n",
    "for X.\n",
    "\n",
    "To select our button, we can do\n",
    "\n",
    "```page.click('[(data-testid=\"SideNav_NewTweet_Button\"]')```\n",
    "\n",
    "which finds the specific element we want by its 'data-testid'. \n",
    "\n",
    "Afterwords, we simply wait, type in the tweet, and click the tweet button!"
   ]
  },
  {
   "cell_type": "code",
   "execution_count": null,
   "metadata": {},
   "outputs": [],
   "source": [
    "# importing library\n",
    "from playwright.sync_api import sync_playwright\n",
    "\n",
    "# data-directory\n",
    "data_dir_chrome = r\"C:\\Users\\charl\\AppData\\Local\\Google\\Chrome\\User Data Copy\"\n",
    "# creating chrome path\n",
    "chrome_path = r\"C:\\Program Files\\Google\\Chrome\\Application\\chrome.exe\"\n",
    "\n",
    "with open(\"posting/tweet.txt\",\"r\") as file:\n",
    "    tweet = file.read()\n",
    "\n",
    "# closes browser when done\n",
    "with sync_playwright() as p:\n",
    "    # open our browser\n",
    "    browser = p.chromium.launch_persistent_context(user_data_dir=data_dir_chrome,\n",
    "                                                   executable_path=chrome_path,\n",
    "                                                   headless=False)\n",
    "    \n",
    "    # getting on page\n",
    "    page = browser.new_page()\n",
    "    page.goto(\"https://x.com/\")\n",
    "    page.wait_for_selector('[data-testid=\"SideNav_NewTweet_Button\"]', timeout=500)  # Waits up to 5s for the button\n",
    "    page.click('[data-testid=\"SideNav_NewTweet_Button\"]')\n",
    "    \n",
    "    page.wait_for_timeout(40)\n",
    "    page.keyboard.type(tweet)\n",
    "    page.click('button[data-testid=\"tweetButton\"]')\n",
    "    page.screenshot(path=\"posting/images/screenshot.png\")"
   ]
  },
  {
   "cell_type": "markdown",
   "metadata": {},
   "source": [
    "And this just works and tweets any file.\n",
    "\n",
    "Now, that we can basically log onto any page and post arbitrary things, let's work with the LLM-APIs to get our custom summaries/tweets/responses."
   ]
  },
  {
   "cell_type": "markdown",
   "metadata": {},
   "source": [
    "## Generating the Summary w/ LLM's\n",
    "\n",
    "I will be Anthropic's API for claude, because it seems to be a very capable model."
   ]
  },
  {
   "cell_type": "code",
   "execution_count": null,
   "metadata": {},
   "outputs": [],
   "source": [
    "import os\n",
    "import anthropic\n",
    "\n",
    "# saved in environement variable\n",
    "api_pass = os.environ.get(\"anthropic_api_key\")\n",
    "\n",
    "with open(\"instructions.txt\", \"r\") as file:\n",
    "    instructions = file.read()\n",
    "    \n",
    "with open(\"article.txt\", \"r\") as file:\n",
    "    article = file.read()\n",
    "\n",
    "client = anthropic.Anthropic(\n",
    "    api_key=api_pass\n",
    ")\n",
    "\n",
    "\n",
    "\n",
    "message = client.messages.create(\n",
    "    # model-type\n",
    "    model=\"claude-3-7-sonnet-20250219\",\n",
    "    # system rules\n",
    "    system= instructions,\n",
    "    # messages received\n",
    "    messages=[\n",
    "        {\"role\":\"user\",\n",
    "         \"content\":article}\n",
    "    ],\n",
    "    max_tokens=1000\n",
    "    \n",
    ")\n",
    "\n"
   ]
  },
  {
   "cell_type": "code",
   "execution_count": null,
   "metadata": {},
   "outputs": [
    {
     "name": "stdout",
     "output_type": "stream",
     "text": [
      "1. Python-as-a-second-language empathy: we need to understand mental models of folks coming from other languages to help them learn Python effectively.\n",
      "\n",
      "2. The blind spot problem: Learning by Googling only addresses things that confuse you enough to search for them, leaving subtle differences unexamined.\n",
      "\n",
      "3. Learning another language before Python is a superpower - you can understand the transition journey in ways native Python devs cannot.\n",
      "\n",
      "4. Simple code\n",
      "100\n",
      "0.0225\n"
     ]
    }
   ],
   "source": [
    "msg = message.content[0].text\n",
    "print(msg)\n",
    "print(message.usage.output_tokens)\n",
    "with open('tweet.txt','w') as tweet:\n",
    "    tweet.write(msg)"
   ]
  },
  {
   "cell_type": "markdown",
   "metadata": {},
   "source": [
    "In the instructions I simply wrote how I wanted my tweet structured; now we have our tweet and summary! We can save this to a file, and we could something.\n",
    "\n",
    "Now, we have some things to do:\n",
    "- Add the link to the post, and have this automatically download, feed to the LLM, and then add the link in X\n",
    "- Be able to modify/add-to instructions in simple-to-use UI\n",
    "- Port to other platforms"
   ]
  }
 ],
 "metadata": {
  "kernelspec": {
   "display_name": "manimtest",
   "language": "python",
   "name": "python3"
  },
  "language_info": {
   "codemirror_mode": {
    "name": "ipython",
    "version": 3
   },
   "file_extension": ".py",
   "mimetype": "text/x-python",
   "name": "python",
   "nbconvert_exporter": "python",
   "pygments_lexer": "ipython3",
   "version": "3.12.7"
  }
 },
 "nbformat": 4,
 "nbformat_minor": 2
}
